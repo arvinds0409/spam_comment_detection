{
 "cells": [
  {
   "cell_type": "code",
   "execution_count": 4,
   "id": "4614f392-c861-4ad5-b8d8-b46d67ff80c6",
   "metadata": {
    "tags": []
   },
   "outputs": [
    {
     "name": "stdout",
     "output_type": "stream",
     "text": [
      "                                      COMMENT_ID   \n",
      "282  LneaDw26bFvPh9xBHNw1btQoyP60ay_WWthtvXCx37s  \\\n",
      "64           z13bjd54knqthbzis04cjb5xxsydfhzqejk   \n",
      "378  LneaDw26bFuUhekP0nDAiaqnW5sf4OD14dIjY-1o63c   \n",
      "17             z13hhxajgrnldjmn523dsjqynsewilbm1   \n",
      "312  LneaDw26bFtALaOnhQgvfdsxEfR5GGMiiqg8sneY-xg   \n",
      "\n",
      "                                   AUTHOR DATE   \n",
      "282                           janez novak  NaN  \\\n",
      "64                           Louis Serano  NaN   \n",
      "378                      RapStarz Coleman  NaN   \n",
      "17   TMCB production (Instrumental Beats)  NaN   \n",
      "312                           Drake Gagne  NaN   \n",
      "\n",
      "                                               CONTENT  CLASS  \n",
      "282  share and like this page to win a hand signed ...      1  \n",
      "64                   Check out this video on YouTube:﻿      1  \n",
      "378                        Subscribe To Mê Please Guys      1  \n",
      "17             Check out our Channel for nice Beats!!﻿      1  \n",
      "312  Hey guys I&#39;m 87 cypher im 11 years old and...      1  \n"
     ]
    }
   ],
   "source": [
    "import pandas as pd\n",
    "import numpy as np\n",
    "from sklearn.feature_extraction.text import CountVectorizer\n",
    "from sklearn.model_selection import train_test_split\n",
    "from sklearn.naive_bayes import BernoulliNB\n",
    "\n",
    "data = pd.read_csv(r\"C:\\Users\\arvin\\Downloads\\archive\\Youtube04-Eminem.csv\")\n",
    "print(data.sample(5))"
   ]
  },
  {
   "cell_type": "code",
   "execution_count": 5,
   "id": "530ca5ac-b06d-48ab-a81c-8d171877a567",
   "metadata": {
    "tags": []
   },
   "outputs": [
    {
     "name": "stdout",
     "output_type": "stream",
     "text": [
      "                                               CONTENT  CLASS\n",
      "229  check out you tube keithlinscotts one word kei...      1\n",
      "129  You guys should check out this EXTRAORDINARY w...      1\n",
      "209                  Check out this video on YouTube:﻿      1\n",
      "34                   Check out this video on YouTube:﻿      1\n",
      "365  Please check out my youtube channel! Just uplo...      1\n"
     ]
    }
   ],
   "source": [
    "data = data[[\"CONTENT\", \"CLASS\"]]\n",
    "print(data.sample(5))"
   ]
  },
  {
   "cell_type": "code",
   "execution_count": 6,
   "id": "7dcbfab6-7933-417e-b732-e4d3013d797f",
   "metadata": {
    "tags": []
   },
   "outputs": [
    {
     "name": "stdout",
     "output_type": "stream",
     "text": [
      "                                               CONTENT         CLASS\n",
      "414                                           Not bad﻿      Not Spam\n",
      "396  I KNOW YOU MAY NOT WANT TO READ THIS BUT pleas...  Spam Comment\n",
      "354  EMINEM FANS!!!  - Check Out The New Song &quot...  Spam Comment\n",
      "76                    like this comment then type 1337  Spam Comment\n",
      "211         I love your songs eminem your the rap god﻿      Not Spam\n"
     ]
    }
   ],
   "source": [
    "data[\"CLASS\"] = data[\"CLASS\"].map({0: \"Not Spam\",\n",
    "                                   1: \"Spam Comment\"})\n",
    "print(data.sample(5))"
   ]
  },
  {
   "cell_type": "code",
   "execution_count": 7,
   "id": "758df834-8fb8-4556-92da-f776fc5c3116",
   "metadata": {
    "tags": []
   },
   "outputs": [
    {
     "name": "stdout",
     "output_type": "stream",
     "text": [
      "0.8111111111111111\n"
     ]
    }
   ],
   "source": [
    "x = np.array(data[\"CONTENT\"])\n",
    "y = np.array(data[\"CLASS\"])\n",
    "\n",
    "cv = CountVectorizer()\n",
    "x = cv.fit_transform(x)\n",
    "xtrain, xtest, ytrain, ytest = train_test_split(x, y, \n",
    "                                                test_size=0.2, \n",
    "                                                random_state=42)\n",
    "\n",
    "model = BernoulliNB()\n",
    "model.fit(xtrain, ytrain)\n",
    "print(model.score(xtest, ytest))"
   ]
  },
  {
   "cell_type": "code",
   "execution_count": 8,
   "id": "cc4362d6-8881-4c77-94af-fc29d829e38a",
   "metadata": {
    "tags": []
   },
   "outputs": [
    {
     "name": "stdout",
     "output_type": "stream",
     "text": [
      "['Not Spam']\n"
     ]
    }
   ],
   "source": [
    "sample = \"Check this out: https://thecleverprogrammer.com/\" \n",
    "data = cv.transform([sample]).toarray()\n",
    "print(model.predict(data))"
   ]
  },
  {
   "cell_type": "code",
   "execution_count": 9,
   "id": "b71d6cbf-9470-4583-9cd7-dedf9d3d5b8b",
   "metadata": {
    "tags": []
   },
   "outputs": [
    {
     "name": "stdout",
     "output_type": "stream",
     "text": [
      "['Not Spam']\n"
     ]
    }
   ],
   "source": [
    "sample = \"Lack of information!\" \n",
    "data = cv.transform([sample]).toarray()\n",
    "print(model.predict(data))"
   ]
  },
  {
   "cell_type": "code",
   "execution_count": null,
   "id": "d3a36d3b-3bcc-49f6-a176-22ecc2579688",
   "metadata": {},
   "outputs": [],
   "source": []
  }
 ],
 "metadata": {
  "kernelspec": {
   "display_name": "Python 3 (ipykernel)",
   "language": "python",
   "name": "python3"
  },
  "language_info": {
   "codemirror_mode": {
    "name": "ipython",
    "version": 3
   },
   "file_extension": ".py",
   "mimetype": "text/x-python",
   "name": "python",
   "nbconvert_exporter": "python",
   "pygments_lexer": "ipython3",
   "version": "3.11.2"
  }
 },
 "nbformat": 4,
 "nbformat_minor": 5
}
